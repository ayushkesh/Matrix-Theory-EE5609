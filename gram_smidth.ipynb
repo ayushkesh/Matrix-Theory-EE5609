{
  "nbformat": 4,
  "nbformat_minor": 0,
  "metadata": {
    "colab": {
      "name": "gram_smidth.ipynb",
      "provenance": []
    },
    "kernelspec": {
      "name": "python3",
      "display_name": "Python 3"
    }
  },
  "cells": [
    {
      "cell_type": "code",
      "metadata": {
        "id": "fyxqT_lsYA3D",
        "outputId": "b304dcaa-a590-484b-a2f5-e2b678d04f6e",
        "colab": {
          "base_uri": "https://localhost:8080/",
          "height": 124
        }
      },
      "source": [
        "import numpy as np\n",
        "def compute_gram_schmidt(A):\n",
        "  B=A\n",
        "  for i in range(len(A[0])):\n",
        "    for j in range(i):\n",
        "      B[:, i] = B[:,i]- np.dot(B[:,j], B[:,i])*(B[:,j])\n",
        "    B[:,i]= B[:,i]/np.linalg.norm(B[:,i])\n",
        "\n",
        "    \"\"\"\n",
        "    This should compute the Gram Schmidt orthogonalization for the matrix A.\n",
        "    The input will generally be an m-by-n real-valued matrix A\n",
        "    The output should be a matrix B which satisfies the following properties:\n",
        "       1. B^T B = I\n",
        "       2. The ColumnSpace(B) = ColumnSpace(A)\n",
        "    Both A and B should be np.array\n",
        "    \"\"\"        \n",
        "  return (B)\n",
        "\n",
        "\"\"\"\n",
        "Actual code begins here.\n",
        "Make sure that the file testmatrices.npy is in the current directory\n",
        "\n",
        "Each matrix is a numpy array\n",
        "\"\"\"\n",
        "\n",
        "\n",
        "test_matrices = np.load('/testmatrices .npy',allow_pickle=True)\n",
        "\n",
        "no_matrices = len(test_matrices)\n",
        "\n",
        "for i in range(no_matrices):\n",
        "\n",
        "    A = test_matrices[i].copy()\n",
        "    B = compute_gram_schmidt(A)\n",
        "    print('Matrix ',i)\n",
        "    testpassed = True\n",
        "    if np.linalg.norm(np.matmul(B.transpose(),B) - np.eye(np.shape(B)[1])) > 0.0001:\n",
        "        print('Test failed: B^TB is not identity')\n",
        "        testpassed = False\n",
        "    augmat = np.concatenate((A,B), axis=1)\n",
        "    if not ( np.linalg.matrix_rank(augmat)==np.linalg.matrix_rank(A) and np.linalg.matrix_rank(A)==np.linalg.matrix_rank(B) ):\n",
        "        print('Test failed: A and B do not have the same column space')\n",
        "        testpassed = False\n",
        "    if testpassed:\n",
        "        print('Test passed')"
      ],
      "execution_count": 6,
      "outputs": [
        {
          "output_type": "stream",
          "text": [
            "Matrix  0\n",
            "Test passed\n",
            "Matrix  1\n",
            "Test passed\n",
            "Matrix  2\n",
            "Test passed\n"
          ],
          "name": "stdout"
        }
      ]
    }
  ]
}