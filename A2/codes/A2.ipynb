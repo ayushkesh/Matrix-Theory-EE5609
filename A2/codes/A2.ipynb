{
  "nbformat": 4,
  "nbformat_minor": 0,
  "metadata": {
    "colab": {
      "name": "A2.ipynb",
      "provenance": []
    },
    "kernelspec": {
      "name": "python3",
      "display_name": "Python 3"
    }
  },
  "cells": [
    {
      "cell_type": "code",
      "metadata": {
        "id": "cJvsXC35Fk6F",
        "colab_type": "code",
        "colab": {
          "base_uri": "https://localhost:8080/",
          "height": 87
        },
        "outputId": "9d32f2d0-f6ce-4a17-9daf-76ee2be8111c"
      },
      "source": [
        "# Assingment 2\n",
        "# Determinant of the matrix \n",
        "import numpy as np\n",
        "a = np.array([[1,2], [2,3]]) \n",
        "print(\"Given matrix is :\",a)\n",
        "d= np.linalg.det(a)\n",
        "print(\"Determinant of the matrix is:\",d)\n",
        "print(\"So system of Equation is consistent\")"
      ],
      "execution_count": 10,
      "outputs": [
        {
          "output_type": "stream",
          "text": [
            "Given matrix is : [[1 2]\n",
            " [2 3]]\n",
            "Determinant of the matrix is: -1.0\n",
            "So system of Equation is consistent\n"
          ],
          "name": "stdout"
        }
      ]
    }
  ]
}