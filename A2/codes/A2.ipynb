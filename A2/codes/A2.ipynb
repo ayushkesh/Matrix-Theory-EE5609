{
  "nbformat": 4,
  "nbformat_minor": 0,
  "metadata": {
    "colab": {
      "name": "A2.ipynb",
      "provenance": []
    },
    "kernelspec": {
      "name": "python3",
      "display_name": "Python 3"
    }
  },
  "cells": [
    {
      "cell_type": "code",
      "metadata": {
        "id": "thrl5atrgbg1",
        "colab_type": "code",
        "colab": {
          "base_uri": "https://localhost:8080/",
          "height": 35
        },
        "outputId": "742f5c35-5174-49a0-bb12-06216a07391f"
      },
      "source": [
        "A = np.array([[1,2], [2,3]])\n",
        "B = np.array([2,3])\n",
        "X = np.linalg.inv(A).dot(B)\n",
        "print(\"System is consistent and has unique solution\",X)\n",
        "#print(X)"
      ],
      "execution_count": 11,
      "outputs": [
        {
          "output_type": "stream",
          "text": [
            "System is consistent and has unique solution [0. 1.]\n"
          ],
          "name": "stdout"
        }
      ]
    }
  ]
}