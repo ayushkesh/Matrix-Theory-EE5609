{
  "nbformat": 4,
  "nbformat_minor": 0,
  "metadata": {
    "colab": {
      "name": "Assignment_2.ipynb",
      "provenance": [],
      "authorship_tag": "ABX9TyOwG0Zg3XA8gOZr8PG1aOVM",
      "include_colab_link": true
    },
    "kernelspec": {
      "name": "python3",
      "display_name": "Python 3"
    }
  },
  "cells": [
    {
      "cell_type": "markdown",
      "metadata": {
        "id": "view-in-github",
        "colab_type": "text"
      },
      "source": [
        "<a href=\"https://colab.research.google.com/github/ayushkesh/Matrix-Theory-EE5609/blob/master/Assignment_2.ipynb\" target=\"_parent\"><img src=\"https://colab.research.google.com/assets/colab-badge.svg\" alt=\"Open In Colab\"/></a>"
      ]
    },
    {
      "cell_type": "code",
      "metadata": {
        "id": "cJvsXC35Fk6F",
        "colab_type": "code",
        "colab": {
          "base_uri": "https://localhost:8080/",
          "height": 104
        },
        "outputId": "136c9f87-f19f-48a5-df67-181ca0e6e0f2"
      },
      "source": [
        "# Assingment 2\n",
        "# Inverse of the matrix \n",
        "import numpy as np \n",
        "a = np.array([[4,5],[3,4]])\n",
        "print (a)\n",
        "ainv = np.linalg.inv(a) \n",
        "print(\"inverse of the matrix is:\")\n",
        "print(ainv)"
      ],
      "execution_count": 1,
      "outputs": [
        {
          "output_type": "stream",
          "text": [
            "[[4 5]\n",
            " [3 4]]\n",
            "inverse of the matrix is:\n",
            "[[ 4. -5.]\n",
            " [-3.  4.]]\n"
          ],
          "name": "stdout"
        }
      ]
    }
  ]
}