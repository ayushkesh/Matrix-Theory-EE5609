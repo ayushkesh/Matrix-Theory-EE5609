{
  "nbformat": 4,
  "nbformat_minor": 0,
  "metadata": {
    "colab": {
      "name": "A3.ipynb",
      "provenance": []
    },
    "kernelspec": {
      "name": "python3",
      "display_name": "Python 3"
    }
  },
  "cells": [
    {
      "cell_type": "code",
      "metadata": {
        "id": "j_9elrIup68G",
        "colab_type": "code",
        "colab": {
          "base_uri": "https://localhost:8080/",
          "height": 269
        },
        "outputId": "4c6f928e-d388-4922-c01a-2cad2929d55a"
      },
      "source": [
        "# Generate the dataset used in Exercise 1.1, page 6 of Bishop's book.\n",
        "\n",
        "import numpy as np\n",
        "import matplotlib.pyplot as plt\n",
        "N = 10 #sample\n",
        "x = np.linspace(-1,1,N) # coordinates\n",
        "noise_sample = np.random.RandomState(1) #noise sample\n",
        "sine_wave = x + np.sin(4*x) + noise_sample.uniform() # random fluctuation\n",
        "plt.plot(x, sine_wave, 'o');\n",
        "plt.ylim(-2, 2)\n",
        "plt.show()"
      ],
      "execution_count": 37,
      "outputs": [
        {
          "output_type": "display_data",
          "data": {
            "image/png": "[encoded data removed]",
            "text/plain": [
              "<Figure size 432x288 with 1 Axes>"
            ]
          },
          "metadata": {
            "tags": [],
            "needs_background": "light"
          }
        }
      ]
    },
    {
      "cell_type": "code",
      "metadata": {
        "id": "w3u3Uu8xq9s0",
        "colab_type": "code",
        "colab": {}
      },
      "source": [
        ""
      ],
      "execution_count": 31,
      "outputs": []
    }
  ]
}